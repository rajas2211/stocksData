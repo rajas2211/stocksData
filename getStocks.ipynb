{
 "cells": [
  {
   "cell_type": "code",
   "execution_count": 1,
   "metadata": {},
   "outputs": [
    {
     "name": "stdout",
     "output_type": "stream",
     "text": [
      "Getting data for ABCAPITAL (1/12)\n",
      "Getting data for ALKEM (2/12)\n",
      "Getting data for DMART (3/12)\n",
      "Getting data for BAJFINANCE (4/12)\n",
      "Getting data for BALRAMCHIN (5/12)\n",
      "Getting data for BANKBARODA (6/12)\n",
      "Getting data for BODALCHEM (7/12)\n",
      "Getting data for COCHINSHIP (8/12)\n",
      "Getting data for DECCANCE (9/12)\n",
      "Getting data for ECLERX (10/12)\n",
      "Getting data for ENGINERSIN (11/12)\n",
      "Getting data for EQUITAS (12/12)\n",
      "Invalid API call. Please retry or visit the documentation (https://www.alphavantage.co/documentation/) for TIME_SERIES_WEEKLY_ADJUSTED.\n",
      "Error Raised\n",
      "Error occured: EQUITAS\n"
     ]
    },
    {
     "ename": "ValueError",
     "evalue": "cannot insert symbol, already exists",
     "output_type": "error",
     "traceback": [
      "\u001b[1;31m---------------------------------------------------------------------------\u001b[0m",
      "\u001b[1;31mValueError\u001b[0m                                Traceback (most recent call last)",
      "Cell \u001b[1;32mIn[1], line 2\u001b[0m\n\u001b[0;32m      1\u001b[0m \u001b[39mfrom\u001b[39;00m \u001b[39mstocksData\u001b[39;00m \u001b[39mimport\u001b[39;00m runScript, executeSymbols\n\u001b[1;32m----> 2\u001b[0m runScript(\u001b[39m'\u001b[39;49m\u001b[39msymbolsTemp.csv\u001b[39;49m\u001b[39m'\u001b[39;49m)\n",
      "File \u001b[1;32mc:\\Users\\rajas\\stocksData\\stocksData.py:85\u001b[0m, in \u001b[0;36mrunScript\u001b[1;34m(filename)\u001b[0m\n\u001b[0;32m     83\u001b[0m \u001b[39mdef\u001b[39;00m \u001b[39mrunScript\u001b[39m(filename):\n\u001b[0;32m     84\u001b[0m     symbols \u001b[39m=\u001b[39m loadSymbols(filename)\n\u001b[1;32m---> 85\u001b[0m     executeSymbols(symbols)\n\u001b[0;32m     86\u001b[0m     \u001b[39mprint\u001b[39m(\u001b[39mf\u001b[39m\u001b[39m\"\u001b[39m\u001b[39mScript execution complete\u001b[39m\u001b[39m\"\u001b[39m)\n",
      "File \u001b[1;32mc:\\Users\\rajas\\stocksData\\stocksData.py:42\u001b[0m, in \u001b[0;36mexecuteSymbols\u001b[1;34m(symbols)\u001b[0m\n\u001b[0;32m     40\u001b[0m \u001b[39mexcept\u001b[39;00m:\n\u001b[0;32m     41\u001b[0m     \u001b[39mprint\u001b[39m(\u001b[39mf\u001b[39m\u001b[39m\"\u001b[39m\u001b[39mError occured: \u001b[39m\u001b[39m{\u001b[39;00msymbol\u001b[39m}\u001b[39;00m\u001b[39m\"\u001b[39m)\n\u001b[1;32m---> 42\u001b[0m df\u001b[39m.\u001b[39;49minsert(\u001b[39m0\u001b[39;49m, \u001b[39m'\u001b[39;49m\u001b[39msymbol\u001b[39;49m\u001b[39m'\u001b[39;49m, symbol)\n\u001b[0;32m     43\u001b[0m writeMasterCSV(df)\n",
      "File \u001b[1;32mc:\\Users\\rajas\\anaconda3\\lib\\site-packages\\pandas\\core\\frame.py:4817\u001b[0m, in \u001b[0;36mDataFrame.insert\u001b[1;34m(self, loc, column, value, allow_duplicates)\u001b[0m\n\u001b[0;32m   4811\u001b[0m     \u001b[39mraise\u001b[39;00m \u001b[39mValueError\u001b[39;00m(\n\u001b[0;32m   4812\u001b[0m         \u001b[39m\"\u001b[39m\u001b[39mCannot specify \u001b[39m\u001b[39m'\u001b[39m\u001b[39mallow_duplicates=True\u001b[39m\u001b[39m'\u001b[39m\u001b[39m when \u001b[39m\u001b[39m\"\u001b[39m\n\u001b[0;32m   4813\u001b[0m         \u001b[39m\"\u001b[39m\u001b[39m'\u001b[39m\u001b[39mself.flags.allows_duplicate_labels\u001b[39m\u001b[39m'\u001b[39m\u001b[39m is False.\u001b[39m\u001b[39m\"\u001b[39m\n\u001b[0;32m   4814\u001b[0m     )\n\u001b[0;32m   4815\u001b[0m \u001b[39mif\u001b[39;00m \u001b[39mnot\u001b[39;00m allow_duplicates \u001b[39mand\u001b[39;00m column \u001b[39min\u001b[39;00m \u001b[39mself\u001b[39m\u001b[39m.\u001b[39mcolumns:\n\u001b[0;32m   4816\u001b[0m     \u001b[39m# Should this be a different kind of error??\u001b[39;00m\n\u001b[1;32m-> 4817\u001b[0m     \u001b[39mraise\u001b[39;00m \u001b[39mValueError\u001b[39;00m(\u001b[39mf\u001b[39m\u001b[39m\"\u001b[39m\u001b[39mcannot insert \u001b[39m\u001b[39m{\u001b[39;00mcolumn\u001b[39m}\u001b[39;00m\u001b[39m, already exists\u001b[39m\u001b[39m\"\u001b[39m)\n\u001b[0;32m   4818\u001b[0m \u001b[39mif\u001b[39;00m \u001b[39mnot\u001b[39;00m \u001b[39misinstance\u001b[39m(loc, \u001b[39mint\u001b[39m):\n\u001b[0;32m   4819\u001b[0m     \u001b[39mraise\u001b[39;00m \u001b[39mTypeError\u001b[39;00m(\u001b[39m\"\u001b[39m\u001b[39mloc must be int\u001b[39m\u001b[39m\"\u001b[39m)\n",
      "\u001b[1;31mValueError\u001b[0m: cannot insert symbol, already exists"
     ]
    }
   ],
   "source": [
    "from stocksData import runScript, executeSymbols\n",
    "runScript('symbolsT.csv')"
   ]
  },
  {
   "cell_type": "code",
   "execution_count": 3,
   "metadata": {},
   "outputs": [
    {
     "name": "stdout",
     "output_type": "stream",
     "text": [
      "Getting data for 532514 (1/1)\n",
      "Data fetch start\n",
      "Data fetch complete\n",
      "Duration to fetch data: 1.2581148147583008 s\n",
      "Running API request count:2\n",
      "Export Complete\n"
     ]
    }
   ],
   "source": [
    "from stocksData import \n",
    "executeSymbols('532514')"
   ]
  },
  {
   "cell_type": "code",
   "execution_count": null,
   "metadata": {},
   "outputs": [],
   "source": []
  }
 ],
 "metadata": {
  "kernelspec": {
   "display_name": "Python 3.9.13 ('stocksAPI')",
   "language": "python",
   "name": "python3"
  },
  "language_info": {
   "codemirror_mode": {
    "name": "ipython",
    "version": 3
   },
   "file_extension": ".py",
   "mimetype": "text/x-python",
   "name": "python",
   "nbconvert_exporter": "python",
   "pygments_lexer": "ipython3",
   "version": "3.10.11"
  },
  "orig_nbformat": 4,
  "vscode": {
   "interpreter": {
    "hash": "fb6eb3d364432005ad3b3b29051329b086771d760c69bfd00c681de425e53476"
   }
  }
 },
 "nbformat": 4,
 "nbformat_minor": 2
}
