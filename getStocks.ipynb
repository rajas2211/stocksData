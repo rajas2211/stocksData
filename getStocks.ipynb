{
 "cells": [
  {
   "cell_type": "code",
   "execution_count": 1,
   "metadata": {},
   "outputs": [
    {
     "name": "stdout",
     "output_type": "stream",
     "text": [
      "Getting data for ABCAPITAL (1/46)\n",
      "Getting data for ALKEM (2/46)\n"
     ]
    }
   ],
   "source": [
    "from stocksData import runScript, executeSymbols\n",
    "runScript('symbolsT.csv')"
   ]
  },
  {
   "cell_type": "code",
   "execution_count": 4,
   "metadata": {},
   "outputs": [
    {
     "name": "stdout",
     "output_type": "stream",
     "text": [
      "Getting data for NSLNISP (1/1)\n",
      "DF Ready\n"
     ]
    }
   ],
   "source": [
    "symbols = ['NSLNISP']\n",
    "for symbol in symbols:\n",
    "    executeSymbols(symbol)"
   ]
  }
 ],
 "metadata": {
  "kernelspec": {
   "display_name": "Python 3.9.13 ('stocksAPI')",
   "language": "python",
   "name": "python3"
  },
  "language_info": {
   "codemirror_mode": {
    "name": "ipython",
    "version": 3
   },
   "file_extension": ".py",
   "mimetype": "text/x-python",
   "name": "python",
   "nbconvert_exporter": "python",
   "pygments_lexer": "ipython3",
   "version": "3.10.11"
  },
  "orig_nbformat": 4,
  "vscode": {
   "interpreter": {
    "hash": "fb6eb3d364432005ad3b3b29051329b086771d760c69bfd00c681de425e53476"
   }
  }
 },
 "nbformat": 4,
 "nbformat_minor": 2
}
