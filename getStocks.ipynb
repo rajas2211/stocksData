{
 "cells": [
  {
   "cell_type": "code",
   "execution_count": 1,
   "metadata": {},
   "outputs": [
    {
     "name": "stdout",
     "output_type": "stream",
     "text": [
      "Getting data for COALINDIA (1/3)\n",
      "Data fetch start\n",
      "Data fetch complete\n",
      "Duration to fetch data: 127.43434405326843 s\n",
      "Running API request count:0\n",
      "Export Complete\n",
      "Getting data for HBLPOWER (2/3)\n",
      "Data fetch start\n",
      "Data fetch complete\n",
      "Duration to fetch data: 127.76821064949036 s\n",
      "Running API request count:0\n",
      "Export Complete\n",
      "Getting data for TCS (3/3)\n",
      "Data fetch start\n",
      "Data fetch complete\n",
      "Duration to fetch data: 127.50230193138123 s\n",
      "Running API request count:0\n",
      "Export Complete\n",
      "Script execution complete\n"
     ]
    }
   ],
   "source": [
    "from stocksData import runScript\n",
    "runScript('symbols.csv')"
   ]
  }
 ],
 "metadata": {
  "kernelspec": {
   "display_name": "Python 3.9.13 ('stocksAPI')",
   "language": "python",
   "name": "python3"
  },
  "language_info": {
   "codemirror_mode": {
    "name": "ipython",
    "version": 3
   },
   "file_extension": ".py",
   "mimetype": "text/x-python",
   "name": "python",
   "nbconvert_exporter": "python",
   "pygments_lexer": "ipython3",
   "version": "3.9.13"
  },
  "orig_nbformat": 4,
  "vscode": {
   "interpreter": {
    "hash": "d44475804321cb5c655c15cec41bc41d4678caabeb92e241766753fb18c7c185"
   }
  }
 },
 "nbformat": 4,
 "nbformat_minor": 2
}
