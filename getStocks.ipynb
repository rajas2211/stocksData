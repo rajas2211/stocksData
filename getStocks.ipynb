{
 "cells": [
  {
   "cell_type": "code",
   "execution_count": 1,
   "metadata": {},
   "outputs": [
    {
     "name": "stdout",
     "output_type": "stream",
     "text": [
      "Getting data for ABCAPITAL (1/60)\n",
      "Getting data for ALKEM (2/60)\n",
      "Getting data for DMART (3/60)\n",
      "Getting data for BAJFINANCE (4/60)\n",
      "Getting data for BALRAMCHIN (5/60)\n",
      "Getting data for BANKBARODA (6/60)\n",
      "Getting data for BODALCHEM (7/60)\n",
      "Getting data for COALINDIA (8/60)\n",
      "Getting data for COCHINSHIP (9/60)\n",
      "Getting data for DECCANCE (10/60)\n",
      "Getting data for ECLERX (11/60)\n",
      "Getting data for ENDURANCE (12/60)\n",
      "Getting data for ENGINERSIN (13/60)\n",
      "Getting data for EQUITAS (14/60)\n",
      "Getting data for HBLPOWER (15/60)\n",
      "Getting data for HDFC (16/60)\n",
      "Getting data for HDFCAMC (17/60)\n",
      "Getting data for HDFCBANK (18/60)\n",
      "Getting data for HDFCLIFE (19/60)\n",
      "Getting data for HEG (20/60)\n",
      "Getting data for HFCL (21/60)\n",
      "Getting data for HUDCO (22/60)\n",
      "Getting data for ICICIBANK (23/60)\n",
      "Getting data for ICICIPRULI (24/60)\n",
      "Getting data for IDFC (25/60)\n",
      "Getting data for IDFCFIRSTB (26/60)\n",
      "Getting data for 532514 (27/60)\n",
      "Getting data for JKAGRI (28/60)\n",
      "Getting data for JSWHL (29/60)\n",
      "Getting data for LTI (30/60)\n",
      "Getting data for LT (31/60)\n",
      "Getting data for CPSEETF (32/60)\n",
      "Getting data for GOLDBEES (33/60)\n",
      "Getting data for MARUTI (34/60)\n",
      "Getting data for MOL (35/60)\n",
      "Getting data for MFL (36/60)\n",
      "Getting data for NAVA (37/60)\n",
      "Getting data for NITCO (38/60)\n",
      "Getting data for NMDC (39/60)\n",
      "Getting data for OMAXAUTO (40/60)\n",
      "Getting data for ONWARDTEC (41/60)\n",
      "Getting data for PATELENG (42/60)\n",
      "Getting data for PENIND (43/60)\n",
      "Getting data for PERSISTENT (44/60)\n",
      "Getting data for PIDILITIND (45/60)\n",
      "Getting data for POLYCAB (46/60)\n",
      "Getting data for PROZONINTU (47/60)\n",
      "Getting data for RELIANCE (48/60)\n",
      "Getting data for SBICARD (49/60)\n",
      "Getting data for SEQUENT (50/60)\n",
      "Getting data for SOLARA (51/60)\n",
      "Getting data for STLTECH (52/60)\n",
      "Getting data for SWARAJENG (53/60)\n",
      "Getting data for TATAPOWER (54/60)\n",
      "Getting data for TCS (55/60)\n",
      "Getting data for SCI (56/60)\n",
      "Getting data for UJJIVAN (57/60)\n",
      "Getting data for UJJIVANSFB (58/60)\n",
      "Getting data for VIVIMEDLAB (59/60)\n",
      "Getting data for YESBANK (60/60)\n",
      "Script execution complete\n"
     ]
    }
   ],
   "source": [
    "from stocksData import runScript, executeSymbols\n",
    "runScript('symbols.csv')"
   ]
  },
  {
   "cell_type": "code",
   "execution_count": 3,
   "metadata": {},
   "outputs": [
    {
     "name": "stdout",
     "output_type": "stream",
     "text": [
      "Getting data for 532514 (1/1)\n",
      "Data fetch start\n",
      "Data fetch complete\n",
      "Duration to fetch data: 1.2581148147583008 s\n",
      "Running API request count:2\n",
      "Export Complete\n"
     ]
    }
   ],
   "source": [
    "from stocksData import \n",
    "executeSymbols('532514')"
   ]
  },
  {
   "cell_type": "code",
   "execution_count": null,
   "metadata": {},
   "outputs": [],
   "source": []
  }
 ],
 "metadata": {
  "kernelspec": {
   "display_name": "Python 3.9.13 ('stocksAPI')",
   "language": "python",
   "name": "python3"
  },
  "language_info": {
   "codemirror_mode": {
    "name": "ipython",
    "version": 3
   },
   "file_extension": ".py",
   "mimetype": "text/x-python",
   "name": "python",
   "nbconvert_exporter": "python",
   "pygments_lexer": "ipython3",
   "version": "3.9.13"
  },
  "orig_nbformat": 4,
  "vscode": {
   "interpreter": {
    "hash": "fb6eb3d364432005ad3b3b29051329b086771d760c69bfd00c681de425e53476"
   }
  }
 },
 "nbformat": 4,
 "nbformat_minor": 2
}
