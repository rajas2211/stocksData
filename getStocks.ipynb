{
 "cells": [
  {
   "cell_type": "code",
   "execution_count": 5,
   "metadata": {},
   "outputs": [],
   "source": [
    "from stocksData import getData"
   ]
  },
  {
   "cell_type": "code",
   "execution_count": 2,
   "metadata": {},
   "outputs": [],
   "source": [
    "getData('TCS')"
   ]
  },
  {
   "cell_type": "code",
   "execution_count": 3,
   "metadata": {},
   "outputs": [],
   "source": [
    "getData('COALINDIA')"
   ]
  },
  {
   "cell_type": "code",
   "execution_count": 6,
   "metadata": {},
   "outputs": [
    {
     "ename": "ValueError",
     "evalue": "Invalid API call. Please retry or visit the documentation (https://www.alphavantage.co/documentation/) for TIME_SERIES_WEEKLY_ADJUSTED.",
     "output_type": "error",
     "traceback": [
      "\u001b[1;31m---------------------------------------------------------------------------\u001b[0m",
      "\u001b[1;31mValueError\u001b[0m                                Traceback (most recent call last)",
      "\u001b[1;32mUntitled-1.ipynb Cell 4\u001b[0m in \u001b[0;36m<cell line: 1>\u001b[1;34m()\u001b[0m\n\u001b[1;32m----> <a href='vscode-notebook-cell:Untitled-1.ipynb?jupyter-notebook#W5sdW50aXRsZWQ%3D?line=0'>1</a>\u001b[0m getData(\u001b[39m'\u001b[39;49m\u001b[39mRELIANCE\u001b[39;49m\u001b[39m'\u001b[39;49m)\n",
      "File \u001b[1;32mc:\\Users\\rajas\\stocksData\\stocksData.py:9\u001b[0m, in \u001b[0;36mgetData\u001b[1;34m(symbol)\u001b[0m\n\u001b[0;32m      7\u001b[0m \u001b[39mdef\u001b[39;00m \u001b[39mgetData\u001b[39m(symbol, BSE\u001b[39m=\u001b[39m\u001b[39mTrue\u001b[39;00m):\n\u001b[0;32m      8\u001b[0m     ts \u001b[39m=\u001b[39m TimeSeries(key\u001b[39m=\u001b[39mapiKey, output_format\u001b[39m=\u001b[39m\u001b[39m'\u001b[39m\u001b[39mpandas\u001b[39m\u001b[39m'\u001b[39m)\n\u001b[1;32m----> 9\u001b[0m     \u001b[39mif\u001b[39;00m BSE:\n\u001b[0;32m     10\u001b[0m         symbol \u001b[39m=\u001b[39m symbol\u001b[39m+\u001b[39m\u001b[39m'\u001b[39m\u001b[39m.BSE\u001b[39m\u001b[39m'\u001b[39m\n\u001b[0;32m     11\u001b[0m     weekly, metaDataW  \u001b[39m=\u001b[39m ts\u001b[39m.\u001b[39mget_weekly_adjusted(symbol\u001b[39m=\u001b[39msymbol)\n",
      "File \u001b[1;32mc:\\Users\\rajas\\anaconda3\\envs\\stocksAPI\\lib\\site-packages\\alpha_vantage\\alphavantage.py:218\u001b[0m, in \u001b[0;36mAlphaVantage._output_format.<locals>._format_wrapper\u001b[1;34m(self, *args, **kwargs)\u001b[0m\n\u001b[0;32m    216\u001b[0m \u001b[39m@wraps\u001b[39m(func)\n\u001b[0;32m    217\u001b[0m \u001b[39mdef\u001b[39;00m \u001b[39m_format_wrapper\u001b[39m(\u001b[39mself\u001b[39m, \u001b[39m*\u001b[39margs, \u001b[39m*\u001b[39m\u001b[39m*\u001b[39mkwargs):\n\u001b[1;32m--> 218\u001b[0m     call_response, data_key, meta_data_key \u001b[39m=\u001b[39m func(\n\u001b[0;32m    219\u001b[0m         \u001b[39mself\u001b[39m, \u001b[39m*\u001b[39margs, \u001b[39m*\u001b[39m\u001b[39m*\u001b[39mkwargs)\n\u001b[0;32m    220\u001b[0m     \u001b[39mif\u001b[39;00m \u001b[39m'\u001b[39m\u001b[39mjson\u001b[39m\u001b[39m'\u001b[39m \u001b[39min\u001b[39;00m \u001b[39mself\u001b[39m\u001b[39m.\u001b[39moutput_format\u001b[39m.\u001b[39mlower() \u001b[39mor\u001b[39;00m \u001b[39m'\u001b[39m\u001b[39mpandas\u001b[39m\u001b[39m'\u001b[39m \\\n\u001b[0;32m    221\u001b[0m             \u001b[39min\u001b[39;00m \u001b[39mself\u001b[39m\u001b[39m.\u001b[39moutput_format\u001b[39m.\u001b[39mlower():\n\u001b[0;32m    222\u001b[0m         \u001b[39mif\u001b[39;00m data_key \u001b[39mis\u001b[39;00m \u001b[39mnot\u001b[39;00m \u001b[39mNone\u001b[39;00m:\n",
      "File \u001b[1;32mc:\\Users\\rajas\\anaconda3\\envs\\stocksAPI\\lib\\site-packages\\alpha_vantage\\alphavantage.py:160\u001b[0m, in \u001b[0;36mAlphaVantage._call_api_on_func.<locals>._call_wrapper\u001b[1;34m(self, *args, **kwargs)\u001b[0m\n\u001b[0;32m    158\u001b[0m \u001b[39melse\u001b[39;00m:\n\u001b[0;32m    159\u001b[0m     url \u001b[39m=\u001b[39m \u001b[39m'\u001b[39m\u001b[39m{}\u001b[39;00m\u001b[39m{}\u001b[39;00m\u001b[39m'\u001b[39m\u001b[39m.\u001b[39mformat(url, apikey_parameter)\n\u001b[1;32m--> 160\u001b[0m \u001b[39mreturn\u001b[39;00m \u001b[39mself\u001b[39;49m\u001b[39m.\u001b[39;49m_handle_api_call(url), data_key, meta_data_key\n",
      "File \u001b[1;32mc:\\Users\\rajas\\anaconda3\\envs\\stocksAPI\\lib\\site-packages\\alpha_vantage\\alphavantage.py:359\u001b[0m, in \u001b[0;36mAlphaVantage._handle_api_call\u001b[1;34m(self, url)\u001b[0m\n\u001b[0;32m    356\u001b[0m     \u001b[39mraise\u001b[39;00m \u001b[39mValueError\u001b[39;00m(\n\u001b[0;32m    357\u001b[0m         \u001b[39m'\u001b[39m\u001b[39mError getting data from the api, no return was given.\u001b[39m\u001b[39m'\u001b[39m)\n\u001b[0;32m    358\u001b[0m \u001b[39melif\u001b[39;00m \u001b[39m\"\u001b[39m\u001b[39mError Message\u001b[39m\u001b[39m\"\u001b[39m \u001b[39min\u001b[39;00m json_response:\n\u001b[1;32m--> 359\u001b[0m     \u001b[39mraise\u001b[39;00m \u001b[39mValueError\u001b[39;00m(json_response[\u001b[39m\"\u001b[39m\u001b[39mError Message\u001b[39m\u001b[39m\"\u001b[39m])\n\u001b[0;32m    360\u001b[0m \u001b[39melif\u001b[39;00m \u001b[39m\"\u001b[39m\u001b[39mInformation\u001b[39m\u001b[39m\"\u001b[39m \u001b[39min\u001b[39;00m json_response \u001b[39mand\u001b[39;00m \u001b[39mself\u001b[39m\u001b[39m.\u001b[39mtreat_info_as_error:\n\u001b[0;32m    361\u001b[0m     \u001b[39mraise\u001b[39;00m \u001b[39mValueError\u001b[39;00m(json_response[\u001b[39m\"\u001b[39m\u001b[39mInformation\u001b[39m\u001b[39m\"\u001b[39m])\n",
      "\u001b[1;31mValueError\u001b[0m: Invalid API call. Please retry or visit the documentation (https://www.alphavantage.co/documentation/) for TIME_SERIES_WEEKLY_ADJUSTED."
     ]
    }
   ],
   "source": [
    "getData('RELIANCE')"
   ]
  },
  {
   "cell_type": "code",
   "execution_count": null,
   "metadata": {},
   "outputs": [],
   "source": []
  }
 ],
 "metadata": {
  "kernelspec": {
   "display_name": "Python 3.9.13 ('stocksAPI')",
   "language": "python",
   "name": "python3"
  },
  "language_info": {
   "codemirror_mode": {
    "name": "ipython",
    "version": 3
   },
   "file_extension": ".py",
   "mimetype": "text/x-python",
   "name": "python",
   "nbconvert_exporter": "python",
   "pygments_lexer": "ipython3",
   "version": "3.9.13"
  },
  "orig_nbformat": 4,
  "vscode": {
   "interpreter": {
    "hash": "d44475804321cb5c655c15cec41bc41d4678caabeb92e241766753fb18c7c185"
   }
  }
 },
 "nbformat": 4,
 "nbformat_minor": 2
}
