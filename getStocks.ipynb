{
 "cells": [
  {
   "cell_type": "code",
   "execution_count": 1,
   "metadata": {},
   "outputs": [
    {
     "name": "stdout",
     "output_type": "stream",
     "text": [
      "Getting data for ABCAPITAL (1/46)\n",
      "Running API request count:2\n",
      "       label       date    open    high     low   close  adjclose\n",
      "0     weekly 2023-07-21  188.70  190.30  181.50  185.85    185.85\n",
      "1    monthly 2023-06-30  170.85  196.85  167.40  196.35    196.35\n",
      "2  quarterly 2023-06-30  153.00  196.85  152.00  196.35    196.35\n",
      "3     halfly 2023-06-30  150.05  196.85  133.25  196.35    196.35\n",
      "4     yearly 2022-12-30  124.15  162.50   85.70  150.10    150.10\n",
      "Getting data for ALKEM (2/46)\n",
      "Running API request count:4\n",
      "       label       date       open    high      low    close   adjclose\n",
      "0     weekly 2023-07-21  3519.5500  3747.0  3508.10  3701.05  3701.0500\n",
      "1    monthly 2023-06-30  3376.8501  3515.8  3310.00  3512.30  3512.3000\n",
      "2  quarterly 2023-06-30  3401.0500  3624.8  3211.05  3512.30  3512.3000\n",
      "3     halfly 2023-06-30  3005.2500  3624.8  2835.05  3512.30  3512.3000\n",
      "4     yearly 2022-12-30  3648.0000  3784.0  2835.00  3005.25  2991.6247\n"
     ]
    },
    {
     "ename": "KeyboardInterrupt",
     "evalue": "",
     "output_type": "error",
     "traceback": [
      "\u001b[0;31m---------------------------------------------------------------------------\u001b[0m",
      "\u001b[0;31mKeyboardInterrupt\u001b[0m                         Traceback (most recent call last)",
      "Cell \u001b[0;32mIn[1], line 2\u001b[0m\n\u001b[1;32m      1\u001b[0m \u001b[39mfrom\u001b[39;00m \u001b[39mstocksData\u001b[39;00m \u001b[39mimport\u001b[39;00m run_script, execute_symbols\n\u001b[0;32m----> 2\u001b[0m run_script(\u001b[39m'\u001b[39m\u001b[39msymbolsT.csv\u001b[39m\u001b[39m'\u001b[39m)\n",
      "File \u001b[0;32m~/stocksData/stocksData.py:116\u001b[0m, in \u001b[0;36mrun_script\u001b[0;34m(filename, output_file)\u001b[0m\n\u001b[1;32m    113\u001b[0m \u001b[39m\u001b[39m\u001b[39m\"\"\"Runs script\u001b[39;00m\n\u001b[1;32m    114\u001b[0m \u001b[39m\"\"\"\u001b[39;00m\n\u001b[1;32m    115\u001b[0m symbols \u001b[39m=\u001b[39m load_symbols(filename)\n\u001b[0;32m--> 116\u001b[0m execute_symbols(symbols, output_file)\n\u001b[1;32m    118\u001b[0m \u001b[39mprint\u001b[39m(\u001b[39mf\u001b[39m\u001b[39m\"\u001b[39m\u001b[39mScript execution complete\u001b[39m\u001b[39m\"\u001b[39m)\n",
      "File \u001b[0;32m~/stocksData/stocksData.py:45\u001b[0m, in \u001b[0;36mexecute_symbols\u001b[0;34m(symbols, output_file)\u001b[0m\n\u001b[1;32m     43\u001b[0m \u001b[39mif\u001b[39;00m num_requests \u001b[39m>\u001b[39m\u001b[39m=\u001b[39m \u001b[39m4\u001b[39m:\n\u001b[1;32m     44\u001b[0m     num_requests \u001b[39m=\u001b[39m \u001b[39m0\u001b[39m\n\u001b[0;32m---> 45\u001b[0m     time\u001b[39m.\u001b[39msleep(\u001b[39m60\u001b[39m)\n\u001b[1;32m     46\u001b[0m \u001b[39m# print(f\"{symbol} Start\")\u001b[39;00m\n\u001b[1;32m     47\u001b[0m \u001b[39mprint\u001b[39m(\u001b[39mf\u001b[39m\u001b[39m\"\u001b[39m\u001b[39mGetting data for \u001b[39m\u001b[39m{\u001b[39;00msymbol\u001b[39m}\u001b[39;00m\u001b[39m (\u001b[39m\u001b[39m{\u001b[39;00midx\u001b[39m+\u001b[39m\u001b[39m1\u001b[39m\u001b[39m}\u001b[39;00m\u001b[39m/\u001b[39m\u001b[39m{\u001b[39;00mnum_symbols\u001b[39m}\u001b[39;00m\u001b[39m)\u001b[39m\u001b[39m\"\u001b[39m)\n",
      "\u001b[0;31mKeyboardInterrupt\u001b[0m: "
     ]
    }
   ],
   "source": [
    "from stocksData import run_script, execute_symbols\n",
    "run_script('symbolsT.csv')"
   ]
  },
  {
   "cell_type": "code",
   "execution_count": null,
   "metadata": {},
   "outputs": [],
   "source": []
  }
 ],
 "metadata": {
  "kernelspec": {
   "display_name": "Python 3.9.13 ('stocksAPI')",
   "language": "python",
   "name": "python3"
  },
  "language_info": {
   "codemirror_mode": {
    "name": "ipython",
    "version": 3
   },
   "file_extension": ".py",
   "mimetype": "text/x-python",
   "name": "python",
   "nbconvert_exporter": "python",
   "pygments_lexer": "ipython3",
   "version": "3.11.4"
  },
  "orig_nbformat": 4,
  "vscode": {
   "interpreter": {
    "hash": "fb6eb3d364432005ad3b3b29051329b086771d760c69bfd00c681de425e53476"
   }
  }
 },
 "nbformat": 4,
 "nbformat_minor": 2
}
