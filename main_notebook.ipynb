{
 "cells": [
  {
   "cell_type": "code",
   "execution_count": 1,
   "metadata": {},
   "outputs": [],
   "source": [
    "import pandas as pd\n",
    "from alpha_vantage.timeseries import TimeSeries\n",
    "import datetime\n",
    "\n",
    "apiKey = 'VH10W9NDNWI32HGL'"
   ]
  },
  {
   "cell_type": "code",
   "execution_count": 2,
   "metadata": {},
   "outputs": [],
   "source": [
    "ts = TimeSeries(key=apiKey, output_format='pandas')\n",
    "symbol = 'RELIANCE.BSE'\n",
    "weekly, metaDataW  = ts.get_weekly_adjusted(symbol=symbol)\n",
    "monthly, metaDataM = ts.get_monthly_adjusted(symbol=symbol)"
   ]
  },
  {
   "cell_type": "code",
   "execution_count": 168,
   "metadata": {},
   "outputs": [
    {
     "name": "stdout",
     "output_type": "stream",
     "text": [
      "Week:  2022-09-02 00:00:00\n",
      "Month: 2022-08-31 00:00:00\n",
      "Quart: 2022-04-01 00:00:00\t2022-06-30 00:00:00\n",
      "HalfY: 2022-01-01 00:00:00\t2022-06-30 00:00:00\n",
      "Year:  2021-01-01 00:00:00\t2021-12-31 00:00:00\n"
     ]
    }
   ],
   "source": [
    "today = pd.Timestamp.today()\n",
    "\n",
    "dayOfTheWeek = today.day_of_week\n",
    "## End of week date\n",
    "weekEnd = (today + pd.DateOffset(days=-abs(dayOfTheWeek - 4))).normalize() \n",
    "\n",
    "## End of Month date\n",
    "if (today.normalize() < (today + pd.offsets.BMonthEnd(n=0)).normalize()):\n",
    "    monthEnd = (today + pd.offsets.MonthEnd(n=-1)).normalize()\n",
    "else:\n",
    "    monthEnd = today.normalize()\n",
    "\n",
    "## Quarter Dates\n",
    "if (today.normalize() < (today + pd.offsets.BQuarterEnd(n=0)).normalize()):\n",
    "    quarterEnd = (today + pd.offsets.QuarterEnd(n=-1)).normalize()\n",
    "else:\n",
    "    quarterEnd = today.normalize()\n",
    "quarterBegin = quarterEnd + pd.offsets.QuarterBegin(n=-1, startingMonth=1)\n",
    "\n",
    "## Semiannual Dates\n",
    "\n",
    "if not today.is_year_end:\n",
    "    if (today.month > 6) or (today.month == 6 and today.day == 30):\n",
    "        halfEnd = ((today + pd.DateOffset(months=-abs(today.month - 6))) + pd.offsets.QuarterEnd(n=0)).normalize()\n",
    "        halfBegin = pd.Timestamp(datetime.date(halfEnd.year, 1, 1))\n",
    "    else:\n",
    "        halfEnd = (today + pd.offsets.YearEnd(n=-1)).normalize()\n",
    "        halfBegin = pd.Timestamp(datetime.date(halfEnd.year, 6, 1))\n",
    "else:\n",
    "    halfEnd = today.normalize()\n",
    "    halfBegin = pd.Timestamp(datetime.date(halfEnd.year, 6, 1))\n",
    "\n",
    "## Annual Dates\n",
    "\n",
    "if (today.normalize() < (today + pd.offsets.BYearEnd(n=0)).normalize()):\n",
    "    yearEnd = (today + pd.offsets.YearEnd(n=-1)).normalize()\n",
    "else:\n",
    "    yearEnd = (today).normalize()\n",
    "yearBegin = yearEnd + pd.offsets.YearBegin(n=-1)\n",
    "\n",
    "print(f\"Week:  {weekEnd}\\nMonth: {monthEnd}\\nQuart: {quarterBegin}\\t{quarterEnd}\\nHalfY: {halfBegin}\\t{halfEnd}\\nYear:  {yearBegin}\\t{yearEnd}\")\n"
   ]
  },
  {
   "cell_type": "code",
   "execution_count": null,
   "metadata": {},
   "outputs": [],
   "source": []
  }
 ],
 "metadata": {
  "kernelspec": {
   "display_name": "Python 3.9.13 ('stocksAPI')",
   "language": "python",
   "name": "python3"
  },
  "language_info": {
   "codemirror_mode": {
    "name": "ipython",
    "version": 3
   },
   "file_extension": ".py",
   "mimetype": "text/x-python",
   "name": "python",
   "nbconvert_exporter": "python",
   "pygments_lexer": "ipython3",
   "version": "3.9.13"
  },
  "orig_nbformat": 4,
  "vscode": {
   "interpreter": {
    "hash": "fb6eb3d364432005ad3b3b29051329b086771d760c69bfd00c681de425e53476"
   }
  }
 },
 "nbformat": 4,
 "nbformat_minor": 2
}
