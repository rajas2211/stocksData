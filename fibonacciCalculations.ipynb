{
 "cells": [
  {
   "cell_type": "code",
   "execution_count": 69,
   "metadata": {},
   "outputs": [],
   "source": [
    "import pandas as pd"
   ]
  },
  {
   "cell_type": "code",
   "execution_count": 130,
   "metadata": {},
   "outputs": [],
   "source": [
    "raw_df = pd.read_csv('masterData-2023-09-04.csv', dtype={'label':'category'})\n",
    "# raw_df.head()"
   ]
  },
  {
   "cell_type": "code",
   "execution_count": 131,
   "metadata": {},
   "outputs": [],
   "source": [
    "df = raw_df.drop(columns=['adjclose'])\n",
    "df['range'] = df['high'] - df['low']\n",
    "df['value_type'] = 'nominal'\n",
    "ratios = {'10': 3.618, '9': 2.618, '8': 1.618, '7': 1.382, '6':1.118, '5':1, '76.2':.764, '4': .618, '50': .5, '3': .382, '2': .236, '1':.118}\n",
    "curves = ['RC', 'FC']\n",
    "columns = {'JxD': ['high', -0.5], 'BDP': ['low', 0.382], 'WDP': ['high', -0.382]}\n",
    "for ratio in ratios.keys():\n",
    "    columns[f\"RC{ratio}\"] = ['close', ratios[ratio]]\n",
    "for ratio in reversed(ratios.keys()):\n",
    "    columns[f\"FC{ratio}\"] = ['close', -ratios[ratio]]"
   ]
  },
  {
   "cell_type": "code",
   "execution_count": 125,
   "metadata": {},
   "outputs": [],
   "source": [
    "for column in columns.keys():\n",
    "    df[column] = df[columns[column][0]]+df['range']*columns[column][1]\n",
    "\n",
    "bound_multiplier = 0.073\n",
    "\n",
    "df_lb = df.copy()\n",
    "df_lb[list(columns.keys())] = df_lb[list(columns.keys())].sub(df_lb['range']*bound_multiplier, axis='index')\n",
    "df_lb['value_type'] = 'lower'\n",
    "\n",
    "df_ub = df.copy()\n",
    "df_ub[list(columns.keys())] = df_ub[list(columns.keys())].add(df_ub['range']*bound_multiplier, axis='index')\n",
    "df_ub['value_type'] = 'upper'\n",
    "# df.head()\n",
    "\n",
    "df_consolidated = pd.concat([df_lb, df, df_ub])\n",
    "df_consolidated.sort_index(level=['symbol','label','value_type'], inplace=True)\n",
    "df_consolidated.set_index(['symbol','label','date', 'open','high','low',\n",
    "                           'close','range','value_type'], inplace=True)"
   ]
  },
  {
   "cell_type": "code",
   "execution_count": 132,
   "metadata": {},
   "outputs": [],
   "source": [
    "df_consolidated.to_excel('stocksAnalyzed-23-09-04.xlsx')"
   ]
  },
  {
   "cell_type": "code",
   "execution_count": null,
   "metadata": {},
   "outputs": [],
   "source": []
  }
 ],
 "metadata": {
  "kernelspec": {
   "display_name": "base",
   "language": "python",
   "name": "python3"
  },
  "language_info": {
   "codemirror_mode": {
    "name": "ipython",
    "version": 3
   },
   "file_extension": ".py",
   "mimetype": "text/x-python",
   "name": "python",
   "nbconvert_exporter": "python",
   "pygments_lexer": "ipython3",
   "version": "3.11.4"
  },
  "orig_nbformat": 4
 },
 "nbformat": 4,
 "nbformat_minor": 2
}
